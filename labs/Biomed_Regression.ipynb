{
  "nbformat": 4,
  "nbformat_minor": 0,
  "metadata": {
    "colab": {
      "provenance": []
    },
    "kernelspec": {
      "name": "python3",
      "display_name": "Python 3"
    },
    "language_info": {
      "name": "python"
    }
  },
  "cells": [
    {
      "cell_type": "markdown",
      "source": [
        "# What is regression?\n",
        "\n",
        "Regression is a method for testing if there is an association between two variables. In other words, we want to know if a change in one variable (called the independent variable) is associated with a change in another variable (called the dependent variable).\n",
        "\n"
      ],
      "metadata": {
        "id": "1NJEnVTfuSzx"
      }
    },
    {
      "cell_type": "code",
      "source": [
        "import numpy as np\n",
        "import seaborn as sns\n",
        "import matplotlib.pyplot as plt\n",
        "import pandas as pd\n",
        "import statsmodels.api as sm"
      ],
      "metadata": {
        "id": "aOm9_2gaI_aO"
      },
      "execution_count": null,
      "outputs": []
    },
    {
      "cell_type": "markdown",
      "source": [
        "## Example: Height and weight\n",
        "\n",
        "As an example, we can explore if there is an association between two different variables, height and weight."
      ],
      "metadata": {
        "id": "QqP_6ET6Ihjs"
      }
    },
    {
      "cell_type": "code",
      "execution_count": null,
      "metadata": {
        "id": "4zd_SBkAuRCx"
      },
      "outputs": [],
      "source": [
        "# Create simulation data of height and weight\n",
        "np.random.seed(42)\n",
        "height = np.random.normal(167,10,1000)\n",
        "error = np.random.normal(0,10,1000)\n",
        "weight = 0.5*height + error\n",
        "data = pd.DataFrame({'height':height,'weight':weight})\n",
        "data"
      ]
    },
    {
      "cell_type": "markdown",
      "source": [
        "Here we have a table with 1000 people. Per person, we know their height in cm and their weight in kg. Visually, we can compare how these two variables relate to each other with a scatter plot."
      ],
      "metadata": {
        "id": "EfmROaYBKQui"
      }
    },
    {
      "cell_type": "code",
      "source": [
        "sns.scatterplot(data=data,x='height',y='weight')"
      ],
      "metadata": {
        "id": "jvH8RL0CKQZc"
      },
      "execution_count": null,
      "outputs": []
    },
    {
      "cell_type": "markdown",
      "source": [
        "**Questions**\n",
        "\n",
        "1. What does each of these dots represent?"
      ],
      "metadata": {
        "id": "i3l75i63KjoU"
      }
    },
    {
      "cell_type": "markdown",
      "source": [
        "ANSWER:"
      ],
      "metadata": {
        "id": "BgZNZjpwSgh4"
      }
    },
    {
      "cell_type": "markdown",
      "source": [
        "2. What trends can you learn from this plot?"
      ],
      "metadata": {
        "id": "bxu38sOQSexf"
      }
    },
    {
      "cell_type": "markdown",
      "source": [
        "ANSWER:"
      ],
      "metadata": {
        "id": "ADeaZhrOShyN"
      }
    },
    {
      "cell_type": "markdown",
      "source": [
        "Visually, we can see that there does appear to be a relationship between height and weight, but we may have some additional follow-up questions, including:\n",
        "* What is the strength of this association? Or in other words, if someone's height increases by 1 cm, how much would we expect their weight to increase by?\n",
        "* Is this association real, or the result of chance? For example, maybe it just happens that randomly we see a visual trend between height and weight, but in reality there is no difference."
      ],
      "metadata": {
        "id": "tH79jnZSK-BX"
      }
    },
    {
      "cell_type": "markdown",
      "source": [
        "One way we can address both of these questions is by drawing a line that summarizes the trend we visually see in our data. However, we need to make sure that the line we are drawing **accurately captures the trend**.\n",
        "\n",
        "Here's an example of a poor line that we can draw on this data."
      ],
      "metadata": {
        "id": "7yk0RnvWMCCs"
      }
    },
    {
      "cell_type": "code",
      "source": [
        "sns.scatterplot(data=data,x='height',y='weight')\n",
        "plt.axhline(85,color='r')"
      ],
      "metadata": {
        "id": "-GHeZ2uxMGx3"
      },
      "execution_count": null,
      "outputs": []
    },
    {
      "cell_type": "markdown",
      "source": [
        "Here, we use a horizontal line at weight=85 to characterize this association between weight from height. This would be the same as saying there is no relationship between weight and height, since regardless of what height someone has, the line is saying we would expect them to have a weight of 85."
      ],
      "metadata": {
        "id": "QV2uqxgzMNMZ"
      }
    },
    {
      "cell_type": "markdown",
      "source": [
        "If we were to use this line, we would have **high error** in our association. This is more evident if we look at individuals with high or low height.\n",
        "\n",
        "**Question**\n",
        "1. What is the height and weight of the person with the highest height in the dataset?"
      ],
      "metadata": {
        "id": "3aRCzG3MMg9i"
      }
    },
    {
      "cell_type": "code",
      "source": [],
      "metadata": {
        "id": "HoRX3zhIM5Rt"
      },
      "execution_count": null,
      "outputs": []
    },
    {
      "cell_type": "markdown",
      "source": [
        "2. What is their weight estimated by the horizontal red line we created?"
      ],
      "metadata": {
        "id": "EZ8FZ4kjMzHH"
      }
    },
    {
      "cell_type": "code",
      "source": [],
      "metadata": {
        "id": "KJhQRdssM6cA"
      },
      "execution_count": null,
      "outputs": []
    },
    {
      "cell_type": "markdown",
      "source": [
        "3. What is the difference in this estimated weight compared to their true weight?"
      ],
      "metadata": {
        "id": "_WP6Fd0xM68U"
      }
    },
    {
      "cell_type": "code",
      "source": [],
      "metadata": {
        "id": "EoJKR1s2MB3L"
      },
      "execution_count": null,
      "outputs": []
    },
    {
      "cell_type": "markdown",
      "source": [
        "We can call the difference in the true value compared to the predicted value the error in our model.\n",
        "\n",
        "Another way to calculate this error is using a statistic called the **mean squared error (MSE)**. Here is what the equation for MSE looks like:\n",
        "\n",
        "\n",
        "$\\frac{∑_i^N(Pred_{i} - Obs_{i})^2}{N}$\n",
        "\n",
        "This formula does the following:\n",
        "\n",
        "1. per individual (i), calculate the difference between the predicted value (like predicted weight) and the observed value (like true weight).\n",
        "2. Next, square this difference. This helps account for instances where someone's predicted weight is lower than their observed weight.\n",
        "3. Across all N individuals, take the sum of this squared difference.\n",
        "4. Divide this sum of squared differences by the total number of people (N).\n",
        "\n",
        "How do we interpret this number? If a **MSE is high**, then that means the way we are trying to describe the trend in data is **inaccurate**. If the **MSE is low**, then the way we are trying to describe the trend is **accurate**."
      ],
      "metadata": {
        "id": "2f1OBjbqM_nx"
      }
    },
    {
      "cell_type": "markdown",
      "source": [
        "**Question**\n",
        "\n",
        "1. Calculate the MSE of using the horizontal line of weight=85 to describe the trend in our data."
      ],
      "metadata": {
        "id": "U4NxceyMRsD4"
      }
    },
    {
      "cell_type": "code",
      "source": [],
      "metadata": {
        "id": "qgfp-CuzLfRC"
      },
      "execution_count": null,
      "outputs": []
    },
    {
      "cell_type": "markdown",
      "source": [
        "We want to ensure that the line we are using to summarize the trend in our data has the **lowest possible MSE**. We can do this using regression! Regression attempts to find the best-fitting line to our data that reduces this error. Specifically, we can use a regression technique called **ordinary least squares (OLS)** to do this."
      ],
      "metadata": {
        "id": "LvVarLOlSBuq"
      }
    },
    {
      "cell_type": "markdown",
      "source": [
        "**Here is some example code of how we can run OLS in python:**"
      ],
      "metadata": {
        "id": "Kh8laicnSsWY"
      }
    },
    {
      "cell_type": "markdown",
      "source": [
        "\n",
        "We want to make sure that we are defining the independent and dependent variables appropriately. This is arbitrary based on what your study is, but here we want to explore the relationship that increasing height has on weight. So our independent variable is height and our dependent variable is weight.\n",
        "\n",
        "We can pull these two variables out of our dataframe as such:"
      ],
      "metadata": {
        "id": "rJaNw4KFUx9g"
      }
    },
    {
      "cell_type": "code",
      "source": [
        "X = data[['height']]\n",
        "X.head()"
      ],
      "metadata": {
        "id": "xbAF_XmGuRin"
      },
      "execution_count": null,
      "outputs": []
    },
    {
      "cell_type": "code",
      "source": [
        "y = data['weight']\n",
        "y.head()"
      ],
      "metadata": {
        "id": "1PDOVnlZVKbK"
      },
      "execution_count": null,
      "outputs": []
    },
    {
      "cell_type": "markdown",
      "source": [
        "Here we set our X variable equal to the height data and the y variable equal to the weight data.\n",
        "\n",
        "Next, we want to add an intercept term to our regression model. If we do not do this, the line we draw will always go through the origin (x=0,y=0), which may not be accurate."
      ],
      "metadata": {
        "id": "Mlaa1sAEVQOT"
      }
    },
    {
      "cell_type": "code",
      "source": [
        "X = sm.add_constant(X)\n",
        "X.head()"
      ],
      "metadata": {
        "id": "OLIPgqMJVPhL"
      },
      "execution_count": null,
      "outputs": []
    },
    {
      "cell_type": "markdown",
      "source": [
        "To add the intercept term, we ran the above code which adds another column to our X table. This column has a constant value, and will be used to define our intercept term."
      ],
      "metadata": {
        "id": "9H3BErGXVipj"
      }
    },
    {
      "cell_type": "markdown",
      "source": [
        "Now that we have our X and y variables defined, we can run OLS."
      ],
      "metadata": {
        "id": "tNuLf1lVVrnY"
      }
    },
    {
      "cell_type": "code",
      "source": [
        "model = sm.OLS(y,X).fit()"
      ],
      "metadata": {
        "id": "-CGSsVKmVMoN"
      },
      "execution_count": null,
      "outputs": []
    },
    {
      "cell_type": "markdown",
      "source": [
        "Here, the `sm.OLS(y,X)` tells python to create an OLS model using the y variable as the dependent variable and X variable as the independent variables. The `.fit()` at the end then says to actually run this model."
      ],
      "metadata": {
        "id": "36RPxr-2Vykm"
      }
    },
    {
      "cell_type": "markdown",
      "source": [
        "We can summarize what these results look like using the `summary()` method."
      ],
      "metadata": {
        "id": "CvWFPUhiWBUK"
      }
    },
    {
      "cell_type": "code",
      "source": [
        "model.summary()"
      ],
      "metadata": {
        "id": "dNQUZoebVw2b"
      },
      "execution_count": null,
      "outputs": []
    },
    {
      "cell_type": "markdown",
      "source": [
        "How do we interpret this?\n",
        "\n",
        "What we have done is try and create a line to describe our data. Since the line is straight, it has the structure of:\n",
        "\n",
        "$weight = b_0 + b_1 * height$\n",
        "\n",
        "Lets look at the **coef** column first. The **coef** column tells us what the b_0 and b_1 values are. So, the **coef** value of const is equal to b_0 and the **coef** value of height is equal to b_1."
      ],
      "metadata": {
        "id": "c-Ct-lwzZxj-"
      }
    },
    {
      "cell_type": "markdown",
      "source": [
        "**Question**\n",
        "\n",
        "1. What is the slope and intercept of the line we just estimated?"
      ],
      "metadata": {
        "id": "tD6phhA6aUZx"
      }
    },
    {
      "cell_type": "code",
      "source": [],
      "metadata": {
        "id": "Ey8LBqCrafhw"
      },
      "execution_count": null,
      "outputs": []
    },
    {
      "cell_type": "markdown",
      "source": [
        "2. Can you draw what this estimated line looks like on top of our scatter plot? Fill in the values below to create the plot"
      ],
      "metadata": {
        "id": "y2wXdg_Uaguu"
      }
    },
    {
      "cell_type": "code",
      "source": [
        "intercept =\n",
        "slope =\n",
        "sns.scatterplot(data=data,x='height',y='weight')\n",
        "predicted_y = intercept + slope * data['height']\n",
        "plt.plot(data['height'], predicted_y,color='r')"
      ],
      "metadata": {
        "id": "lvzmM-fRafbZ"
      },
      "execution_count": null,
      "outputs": []
    },
    {
      "cell_type": "markdown",
      "source": [
        "3. What is the MSE of this line? How does it compare to the MSE we calculated earlier for the horizontal line?"
      ],
      "metadata": {
        "id": "B99MwCTadtLx"
      }
    },
    {
      "cell_type": "code",
      "source": [],
      "metadata": {
        "id": "oHVN93hpdsLP"
      },
      "execution_count": null,
      "outputs": []
    },
    {
      "cell_type": "markdown",
      "source": [
        "In the OLS summary table, we can see also a column called `P>|t|`. This column represents the p-value, or if the association we see is statistically significant. In regression, the p-value is the probability of observing this visual trend in our data *if* the true b1 is actually 0.\n",
        "\n",
        "1. What is the p-value of the association of height with weight?"
      ],
      "metadata": {
        "id": "PIo06i5Zd3hU"
      }
    },
    {
      "cell_type": "code",
      "source": [],
      "metadata": {
        "id": "3FvKxwsfWFb3"
      },
      "execution_count": null,
      "outputs": []
    },
    {
      "cell_type": "markdown",
      "source": [
        "## Making predictions using our data\n",
        "\n",
        "So far, we found that there is a significant association between height and weight. Regression is also useful because we can use it to make predictions on new data. For example, lets say a new person enters our study and provides their height. We can estimate what their weight is using our regression model.\n",
        "\n",
        "**Question**\n",
        "\n",
        "1. The new person's height is 200 cm. What is their predicted weight based on our model?"
      ],
      "metadata": {
        "id": "hHZok3qleR2s"
      }
    },
    {
      "cell_type": "code",
      "source": [],
      "metadata": {
        "id": "KdGxB5hheRlt"
      },
      "execution_count": null,
      "outputs": []
    },
    {
      "cell_type": "markdown",
      "source": [
        "We can even extend this prediction to a whole group of people, not just a single person."
      ],
      "metadata": {
        "id": "3VDDLs1Oe6sb"
      }
    },
    {
      "cell_type": "code",
      "source": [
        "# Create new simulation data of height and weight\n",
        "np.random.seed(42)\n",
        "new_height = np.random.normal(170,10,500)\n",
        "new_error = np.random.normal(0,9,500)\n",
        "new_weight = 0.5*new_height + new_error\n",
        "new_data = pd.DataFrame({'height':new_height,'weight':new_weight})\n",
        "new_data.head()"
      ],
      "metadata": {
        "id": "KyftdvPSfAV6"
      },
      "execution_count": null,
      "outputs": []
    },
    {
      "cell_type": "markdown",
      "source": [
        "Here we have a new dataset of 500 individuals which we did not include in our prediction above. Lets test how accurate our prediction model is!\n",
        "\n",
        "**Question**\n",
        "\n",
        "1. Calculate the predicted weight of all of these new individuals using the regression results we generated above. hint: use the slope and intercept of the OLS line estimated above."
      ],
      "metadata": {
        "id": "ifDopjMefW9e"
      }
    },
    {
      "cell_type": "code",
      "source": [],
      "metadata": {
        "id": "AZGQho6efWkq"
      },
      "execution_count": null,
      "outputs": []
    },
    {
      "cell_type": "markdown",
      "source": [
        "2. Calculate the MSE of these predicted weights in the new individuals."
      ],
      "metadata": {
        "id": "1tKx2sNpfqnU"
      }
    },
    {
      "cell_type": "code",
      "source": [],
      "metadata": {
        "id": "btMEOUh6fTs6"
      },
      "execution_count": null,
      "outputs": []
    },
    {
      "cell_type": "markdown",
      "source": [
        "3. How does this MSE compare to the MSE you calculated in the old data?\n",
        "\n",
        "ANSWER:"
      ],
      "metadata": {
        "id": "B00F1yFwgFXf"
      }
    },
    {
      "cell_type": "markdown",
      "source": [
        "Congrats, you just performed machine learning! We used our first dataset to estimate a model on our data, and we used our second dataset to test how accurate the model is. This process of having two datasets is called a \"train-test split\", and is one popular method for ensuring that machine learning models are both accurate and generalizable to new data."
      ],
      "metadata": {
        "id": "EmZp_LrffvxR"
      }
    },
    {
      "cell_type": "markdown",
      "source": [
        "Here, we drew a straight line to model our data. This means that implicitly, we are assuming there is a **linear** relationship between the two variables.\n",
        "\n",
        "**Question**\n",
        "\n",
        "1. Can you think of circumstances where this assumption would not work?\n",
        "\n",
        "ANSWER:\n",
        "\n",
        "2. Is OLS always guaranteed to find you the best fit to your data?\n",
        "\n",
        "ANSWER:"
      ],
      "metadata": {
        "id": "5n5Q5ZmOgptd"
      }
    },
    {
      "cell_type": "markdown",
      "source": [
        "# BONUS: Regression and Genetics\n",
        "\n",
        "Above, we learned how to run regression to model the association between height and weight, and then use this model to predict what one person's weight may be given their height. However, regression can also be used for more complicated tasks.\n",
        "\n",
        "In human genetics, regression is the most common tool used to look for associations between genetics and different phenotypes, including binary traits (like cancer status or heart disease) and quantitative traits (like BMI or glucose levels).\n",
        "\n",
        "Here, we are going to explore how we can use regression on genetics information to identify variants associated with a phenotype and then predict what that phenotype may be in other people. This can be especially useful, for example, if you want to identify people who may high genetic risk for disease.\n",
        "\n",
        "First, lets load in the data we will be using."
      ],
      "metadata": {
        "id": "scaZElp81e6C"
      }
    },
    {
      "cell_type": "code",
      "source": [
        "train_X = pd.read_table('https://raw.githubusercontent.com/rmandla/biomed_computational_labs/refs/heads/main/files/TRAIN_genotypes.txt').set_index('ID')\n",
        "train_y = pd.read_table('https://raw.githubusercontent.com/rmandla/biomed_computational_labs/refs/heads/main/files/TRAIN_phenotypes.txt').set_index('ID')"
      ],
      "metadata": {
        "id": "5RA8DOEO3J5S"
      },
      "execution_count": null,
      "outputs": []
    },
    {
      "cell_type": "markdown",
      "source": [
        "Lets explore what our data looks like."
      ],
      "metadata": {
        "id": "Yg8mjhVh3l9t"
      }
    },
    {
      "cell_type": "code",
      "source": [
        "train_X"
      ],
      "metadata": {
        "id": "8huxB09Z3Qdy"
      },
      "execution_count": null,
      "outputs": []
    },
    {
      "cell_type": "markdown",
      "source": [
        "`train_X` is a table with 8000 rows and 101 columns. Here, each row represents one person and each column represents one variable we will be using in regression. We can see by the column names, there are actually 100 different genetic variants (labelled `var_NUMBER`) in our dataset and one column called `const`, which will help us include an intercept term in our regression model.\n",
        "\n",
        "You may also notice that the genetic variants have values of 0, 1, or 2. We convert the nucleotide information into these numbers since regression requires numbers as input. These numbers represent the number of alternative nucleotides present at a specific location of a person's genome.\n",
        "\n",
        "For example, lets look at `var_95`. If we have two possible nucleotides at this position, A and T, then a person can have genotype either AA, AT, TA, or TT. Remember, this is because each person has **two** copies of DNA, one from their Mom and one from their Dad. If we assign the T nucleotide as the alternative nucleotide, then numerically we can code AA as 0, AT as 1, TA as 1, and TT as 2. Which nucleotide is actually labelled as the \"alternative\" is arbitrary, but usually the nucleotide that is least common is called the \"alternative\".\n",
        "\n",
        "QUESTION:\n",
        "1. If we one regression where the independent variable is a genetic variant that we coded as 0, 1, or 2 based on the number of alternative nucleotides, what would the interpretation of the slope mean? (HINT: in regression, the slope of the line represents the change in the dependent variable per every one-unit increase in the independent variable.)\n",
        "\n",
        "ANSWER:"
      ],
      "metadata": {
        "id": "B61m6sMx3sLD"
      }
    },
    {
      "cell_type": "code",
      "source": [
        "train_y"
      ],
      "metadata": {
        "id": "dtCkTkKk3ryE"
      },
      "execution_count": null,
      "outputs": []
    },
    {
      "cell_type": "markdown",
      "source": [
        "In our dataframe `train_y` we have phenotype information for every person in `train_X`. We will use this information as our dependent variable in our regression. **Here our phenotype is BMI**."
      ],
      "metadata": {
        "id": "nj1SvfSR6vPA"
      }
    },
    {
      "cell_type": "markdown",
      "source": [
        "QUESTION:\n",
        "\n",
        "1. Using the example code we created above to run OLS regression, run regression between BMI and the genetic data."
      ],
      "metadata": {
        "id": "G4nl1j_r69sw"
      }
    },
    {
      "cell_type": "code",
      "source": [],
      "metadata": {
        "id": "xSth_6O03qg7"
      },
      "execution_count": null,
      "outputs": []
    },
    {
      "cell_type": "markdown",
      "source": [
        "2. Look at the summary of your OLS model. How many variants are significantly associated with BMI?"
      ],
      "metadata": {
        "id": "LJ29jaHS7NTM"
      }
    },
    {
      "cell_type": "code",
      "source": [],
      "metadata": {
        "id": "A2oOzfvl7TCU"
      },
      "execution_count": null,
      "outputs": []
    },
    {
      "cell_type": "markdown",
      "source": [
        "Here, we made a model on the relationship between 100 different genetic variants and a BMI. Now, lets say we recruit 2000 more people into our study, and collect their genetic information for each of these 100 genetic variants as well. We can now use our model to predict what each person's BMI will be given their genetic information."
      ],
      "metadata": {
        "id": "UieKR_aR7W1I"
      }
    },
    {
      "cell_type": "code",
      "source": [
        "test_X = pd.read_table('https://raw.githubusercontent.com/rmandla/biomed_computational_labs/refs/heads/main/files/TEST_genotypes.txt').set_index('ID')\n",
        "test_y = pd.read_table('https://raw.githubusercontent.com/rmandla/biomed_computational_labs/refs/heads/main/files/TEST_phenotypes.txt').set_index('ID')"
      ],
      "metadata": {
        "id": "waj92FaM8Lux"
      },
      "execution_count": null,
      "outputs": []
    },
    {
      "cell_type": "code",
      "source": [
        "test_X"
      ],
      "metadata": {
        "id": "hlG9cXXo8QhA"
      },
      "execution_count": null,
      "outputs": []
    },
    {
      "cell_type": "markdown",
      "source": [
        "Here is what the genetic data in the `test_X` dataframe from our new cohort of participants looks like. We can see that the columns are the same as `train_X`, but the person IDs are different and there are only 2000 people in our dataset."
      ],
      "metadata": {
        "id": "tcjk6gEY8TAm"
      }
    },
    {
      "cell_type": "markdown",
      "source": [
        "QUESTION:\n",
        "1. Using the OLS model you created in the training data, predict what each new participant's BMI will be from their genetic information. HINT: In the height vs weight example, we did this using an equation of `intercept + slope * height`. However, here we have 100 different variables, so writing all those values into an equation ourself will take a long time! Instead, we can use a nice method called `predict` to run this equation for us."
      ],
      "metadata": {
        "id": "NY-JeZXH83JS"
      }
    },
    {
      "cell_type": "code",
      "source": [],
      "metadata": {
        "id": "NL5vHQB-8pO3"
      },
      "execution_count": null,
      "outputs": []
    },
    {
      "cell_type": "markdown",
      "source": [
        "2. Create a scatter plot of the genetically predicted BMI from the question above to their true BMI information in the table `test_y`. Visually, how accurate do our genetic predictions seem?"
      ],
      "metadata": {
        "id": "YK9PstJ-93fW"
      }
    },
    {
      "cell_type": "code",
      "source": [],
      "metadata": {
        "id": "a9ha7tmX92cQ"
      },
      "execution_count": null,
      "outputs": []
    }
  ]
}